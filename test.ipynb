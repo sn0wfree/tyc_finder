{
 "cells": [
  {
   "cell_type": "code",
   "execution_count": 1,
   "metadata": {},
   "outputs": [],
   "source": [
    "from tyc_finder.temp_parse import Test,GetBaseInfoDetail,GetContainer\n"
   ]
  },
  {
   "cell_type": "code",
   "execution_count": 2,
   "metadata": {},
   "outputs": [
    {
     "name": "stdout",
     "output_type": "stream",
     "text": [
      "will load cookies at tyc_finder/cookies/cookies.json \n"
     ]
    }
   ],
   "source": [
    "l0, basic_info, tyc_risk, l3, container, driver = Test.main_path(public='tyc_finder/cookies/')\n",
    "logo_dict, simple_info = Test.parse_basic_info(basic_info)\n",
    "header, detail_list = GetContainer.get_container_left_tabline(container)\n"
   ]
  },
  {
   "cell_type": "code",
   "execution_count": 3,
   "metadata": {},
   "outputs": [],
   "source": [
    "\n",
    "knowledgeProperty = detail_list.xpath(\"\"\"//div[@class='block-data-group']\"\"\")[5]\n",
    "lawDangerous = detail_list.xpath(\"\"\"//div[@class='block-data-group']\"\"\")[1]\n",
    "element = detail_list.xpath(\"\"\"//div[@class='block-data-group']\"\"\")[0]\n",
    "ele = element.xpath(\"\"\"*\"\"\")[1]\n",
    "\n"
   ]
  },
  {
   "cell_type": "code",
   "execution_count": 4,
   "metadata": {},
   "outputs": [],
   "source": [
    "data_header, data_content = GetBaseInfoDetail._getchildren_without_comment(ele)\n",
    "\n",
    "back_ground_info_dict = GetContainer._parser_nae_main_sector_info_router(ele)"
   ]
  },
  {
   "cell_type": "code",
   "execution_count": 8,
   "metadata": {},
   "outputs": [],
   "source": [
    "name_dict = back_ground_info_dict['name_dict']\n",
    "detail_background_info = back_ground_info_dict['detail_background_info']"
   ]
  },
  {
   "cell_type": "code",
   "execution_count": 21,
   "metadata": {},
   "outputs": [
    {
     "data": {
      "text/plain": [
       "{'class': 'sort-chart lazy-img', 'alt': '评分100', 'data-src': 'https://cdn.tianyancha.com/web-require-js/themes/18blue/images/score/score_100.png'}"
      ]
     },
     "execution_count": 21,
     "metadata": {},
     "output_type": "execute_result"
    }
   ],
   "source": [
    "ss = detail_background_info[0]\n",
    "ss[-1]"
   ]
  },
  {
   "cell_type": "code",
   "execution_count": 20,
   "metadata": {},
   "outputs": [
    {
     "name": "stdout",
     "output_type": "stream",
     "text": [
      "1\n"
     ]
    }
   ],
   "source": [
    "if isinstance(ss[-1],dict):\n",
    "    s = dict(ss[:-1]) + ss[-1]\n",
    "else:\n",
    "    print(1)\n",
    "    "
   ]
  },
  {
   "cell_type": "code",
   "execution_count": 25,
   "metadata": {},
   "outputs": [
    {
     "data": {
      "text/plain": [
       "{'class': 'sort-chart lazy-img',\n",
       " 'alt': '评分100',\n",
       " 'data-src': 'https://cdn.tianyancha.com/web-require-js/themes/18blue/images/score/score_100.png'}"
      ]
     },
     "execution_count": 25,
     "metadata": {},
     "output_type": "execute_result"
    }
   ],
   "source": [
    "dict(ss[-1])"
   ]
  },
  {
   "cell_type": "code",
   "execution_count": null,
   "metadata": {},
   "outputs": [],
   "source": []
  }
 ],
 "metadata": {
  "kernelspec": {
   "display_name": "Python 3",
   "language": "python",
   "name": "python3"
  },
  "language_info": {
   "codemirror_mode": {
    "name": "ipython",
    "version": 3
   },
   "file_extension": ".py",
   "mimetype": "text/x-python",
   "name": "python",
   "nbconvert_exporter": "python",
   "pygments_lexer": "ipython3",
   "version": "3.6.7"
  }
 },
 "nbformat": 4,
 "nbformat_minor": 2
}
